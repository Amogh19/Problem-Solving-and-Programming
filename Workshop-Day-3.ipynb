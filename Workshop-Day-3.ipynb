{
 "cells": [
  {
   "cell_type": "markdown",
   "metadata": {},
   "source": [
    "### Programming in Python using Strings\n",
    "- Strings\n",
    "- String Slicing\n",
    "- Fundamental Programs and Examples with Strings"
   ]
  },
  {
   "cell_type": "code",
   "execution_count": null,
   "metadata": {},
   "outputs": [],
   "source": []
  },
  {
   "cell_type": "code",
   "execution_count": 4,
   "metadata": {},
   "outputs": [
    {
     "name": "stdout",
     "output_type": "stream",
     "text": [
      "Python\n",
      "Programming\n",
      "A\n",
      "<class 'str'>\n",
      "<class 'str'>\n",
      "<class 'str'>\n"
     ]
    }
   ],
   "source": [
    "s1='Python'\n",
    "s2=\"Programming\"\n",
    "s3=\"A\"\n",
    "print(s1)\n",
    "print(s2)\n",
    "print(s3)\n",
    "print(type(s1))\n",
    "print(type(s2))\n",
    "print(type(s3))"
   ]
  },
  {
   "cell_type": "markdown",
   "metadata": {},
   "source": [
    "### String Slicing"
   ]
  },
  {
   "cell_type": "code",
   "execution_count": 11,
   "metadata": {},
   "outputs": [
    {
     "name": "stdout",
     "output_type": "stream",
     "text": [
      "P\n",
      "y\n",
      "6\n",
      "n\n",
      "n\n"
     ]
    }
   ],
   "source": [
    "s1 = \"Python\"\n",
    "print(s1[0])\n",
    "print(s1[1])\n",
    "print(len(s1))\n",
    "print(s1[len(s1)-1])\n",
    "print(s1[-1]) #  Another way of accessing the characters of the string in the reverse order\n",
    "# Array index numbering starts from 0 in the forward order and starts from -1 in the reverse order\n"
   ]
  },
  {
   "cell_type": "code",
   "execution_count": 18,
   "metadata": {},
   "outputs": [
    {
     "name": "stdout",
     "output_type": "stream",
     "text": [
      "on\n",
      "hon\n",
      "tho\n",
      "ytho\n",
      "yhn\n"
     ]
    }
   ],
   "source": [
    "s1[0:2] # Here 0 represents the starting index of the string while 2 denotes upto which element has to be printed\n",
    "print(s1[-2:]) # Here the second last element of the string is the starting index and it is accessed till the last element of the string\n",
    "print(s1[3:])\n",
    "print(s1[2:5])\n",
    "print(s1[1:-1])\n",
    "print(s1[1::2])"
   ]
  },
  {
   "cell_type": "code",
   "execution_count": 19,
   "metadata": {},
   "outputs": [
    {
     "data": {
      "text/plain": [
       "'nohtyP'"
      ]
     },
     "execution_count": 19,
     "metadata": {},
     "output_type": "execute_result"
    }
   ],
   "source": [
    "s1=\"Python\"\n",
    "s1[-1::-1] # Used to reverse the string"
   ]
  },
  {
   "cell_type": "code",
   "execution_count": 20,
   "metadata": {},
   "outputs": [
    {
     "data": {
      "text/plain": [
       "'Pto'"
      ]
     },
     "execution_count": 20,
     "metadata": {},
     "output_type": "execute_result"
    }
   ],
   "source": [
    "s1[::2] # Accessing the alternate elements of the string in the forward direction"
   ]
  },
  {
   "cell_type": "code",
   "execution_count": 21,
   "metadata": {},
   "outputs": [
    {
     "data": {
      "text/plain": [
       "'nhy'"
      ]
     },
     "execution_count": 21,
     "metadata": {},
     "output_type": "execute_result"
    }
   ],
   "source": [
    "s1[::-2] # Accessing the alternate elements of the string in the reverse direction\n",
    "# Whenever a negative index follows the double colon it indicates accessing in the reverse direction.Here there is no index preceding the double colon so the elements will accessed in alternate number given after the double colon\n",
    "# However if a number is preceding the double colon then all the elements upto that index will be accessed. To access the first element whose index value is zero use -1 before the double colon."
   ]
  },
  {
   "cell_type": "markdown",
   "metadata": {},
   "source": [
    "### Functions with String Operations"
   ]
  },
  {
   "cell_type": "code",
   "execution_count": 22,
   "metadata": {},
   "outputs": [
    {
     "name": "stdout",
     "output_type": "stream",
     "text": [
      "Enter a string Python\n"
     ]
    },
    {
     "data": {
      "text/plain": [
       "'nohtyP'"
      ]
     },
     "execution_count": 22,
     "metadata": {},
     "output_type": "execute_result"
    }
   ],
   "source": [
    "def reversestr(s):\n",
    "    return s[-1::-1]\n",
    "s=input(\"Enter a string \")\n",
    "reversestr(s)"
   ]
  },
  {
   "cell_type": "code",
   "execution_count": 25,
   "metadata": {},
   "outputs": [
    {
     "name": "stdout",
     "output_type": "stream",
     "text": [
      "Enter a string Malayalam\n"
     ]
    },
    {
     "data": {
      "text/plain": [
       "'Not a Palindrome '"
      ]
     },
     "execution_count": 25,
     "metadata": {},
     "output_type": "execute_result"
    }
   ],
   "source": [
    "def palindromestr(s):\n",
    "    s2=s[-1::-1]\n",
    "    if(s2==s):\n",
    "        return \"Palindrome\"\n",
    "    else:\n",
    "        return \"Not a Palindrome \"\n",
    "s=input(\"Enter a string \")\n",
    "palindromestr(s)"
   ]
  },
  {
   "cell_type": "code",
   "execution_count": 28,
   "metadata": {},
   "outputs": [
    {
     "name": "stdout",
     "output_type": "stream",
     "text": [
      "P "
     ]
    }
   ],
   "source": [
    "# ASCII Number System needs to be remembered in this case\n",
    "# A - Z : 65-90\n",
    "# a - z : 97-122\n",
    "# 0 - 9 : 48-57\n",
    "# space : 32\n",
    "def uppercase(s):\n",
    "    for i in range(len(s)):\n",
    "        if(ord(s[i])>=65 and ord(s[i])<=90): # The ord function is used to give the ASCII value for any given character.\n",
    "            print(s[i],end=\" \")\n",
    "uppercase(\"Python\")"
   ]
  },
  {
   "cell_type": "code",
   "execution_count": 29,
   "metadata": {},
   "outputs": [
    {
     "name": "stdout",
     "output_type": "stream",
     "text": [
      "n "
     ]
    }
   ],
   "source": [
    "def lowercase(s):\n",
    "    for i in range(len(s)):\n",
    "        if(ord(s[i])>=97 and ord(s[i])<=122):\n",
    "            print(s[i],end=\" \")\n",
    "lowercase(\"PYTHOn\")"
   ]
  },
  {
   "cell_type": "code",
   "execution_count": 34,
   "metadata": {},
   "outputs": [
    {
     "name": "stdout",
     "output_type": "stream",
     "text": [
      "Enter a word PyTThonW\n",
      "Same Count\n"
     ]
    }
   ],
   "source": [
    "# Function to check if the count of lower case and upper case characters are same or not\n",
    "def func(s):\n",
    "    uc=0\n",
    "    lc=0\n",
    "    for i in range(len(s)):\n",
    "        if(ord(s[i])>=97) and (ord(s[i])<=122):\n",
    "            lc=lc+1\n",
    "        if(ord(s[i])>=65) and (ord(s[i])<=90):\n",
    "            uc=uc+1\n",
    "    if(uc==lc):\n",
    "        print(\"Same Count\")\n",
    "    else:\n",
    "        print(\"Programming\")\n",
    "s=input(\"Enter a word \")\n",
    "func(s)"
   ]
  },
  {
   "cell_type": "code",
   "execution_count": 35,
   "metadata": {},
   "outputs": [
    {
     "name": "stdout",
     "output_type": "stream",
     "text": [
      "Enter a string with numbers iphone11pro\n",
      "1 1 "
     ]
    }
   ],
   "source": [
    "# Function to extract the digits of the string\n",
    "def func(s):\n",
    "    for i in range(len(s)):\n",
    "        if(ord(s[i])>=48) and (ord(s[i])<=57):\n",
    "            print(s[i],end=\" \")\n",
    "s=input(\"Enter a string with numbers \")\n",
    "func(s)"
   ]
  },
  {
   "cell_type": "code",
   "execution_count": 38,
   "metadata": {},
   "outputs": [
    {
     "name": "stdout",
     "output_type": "stream",
     "text": [
      "Enter a string with numbers iphone11pro\n",
      "2\n"
     ]
    }
   ],
   "source": [
    "# Function to add the digits of a string\n",
    "def func(s):\n",
    "    t=0\n",
    "    for i in range(len(s)):\n",
    "        if(ord(s[i])>=48 and (ord(s[i])<=57)):\n",
    "            t=t+int(s[i])\n",
    "    print(t)\n",
    "s=input(\"Enter a string with numbers \")\n",
    "func(s)"
   ]
  },
  {
   "cell_type": "code",
   "execution_count": 54,
   "metadata": {},
   "outputs": [
    {
     "name": "stdout",
     "output_type": "stream",
     "text": [
      "Enter a string with multiple words Python Made Easy\n",
      "M A D E "
     ]
    }
   ],
   "source": [
    "# Function to print Second word in Upper Case\n",
    "def wordUpperCase(s):\n",
    "    sc=0\n",
    "    for i in range(len(s)):\n",
    "        if(ord(s[i])==32):\n",
    "            sc=sc+1\n",
    "        if(sc==1):\n",
    "            if(ord(s[i])>=65 and (ord(s[i])<=90)):\n",
    "                print(s[i],end=\" \")\n",
    "            elif(ord(s[i])>=97 and ord(s[i])<=122):\n",
    "                print(chr(ord(s[i])-32),end=\" \")\n",
    "s=input(\"Enter a string with multiple words \")\n",
    "wordUpperCase(s)"
   ]
  },
  {
   "cell_type": "markdown",
   "metadata": {},
   "source": [
    "### About Lists\n",
    "- One of the data structures in Python\n",
    "- Data Structure means to store,sort and search options\n",
    "- It's one common data structure in Python,the items of List seperated are enclosed in square brackets\n",
    "- Examples\n",
    "    - List1=[1,2,3,4,5]\n",
    "    - List2=[\"Gitam\",1,\"Vizag\"]"
   ]
  },
  {
   "cell_type": "code",
   "execution_count": 58,
   "metadata": {},
   "outputs": [
    {
     "name": "stdout",
     "output_type": "stream",
     "text": [
      "[1, 2, 3, 4, 5]\n",
      "1\n",
      "2\n",
      "3\n",
      "[3, 4, 5]\n",
      "[3, 4]\n"
     ]
    }
   ],
   "source": [
    "li=[1,2,3,4,5]\n",
    "print(li)\n",
    "print(li[0])\n",
    "print(li[1])\n",
    "print(li[2])\n",
    "print(li[2:5])\n",
    "print(li[2:4])"
   ]
  },
  {
   "cell_type": "code",
   "execution_count": 60,
   "metadata": {},
   "outputs": [
    {
     "name": "stdout",
     "output_type": "stream",
     "text": [
      "['Gitam', 1582, 2019, 'Vizag']\n",
      "['Gitam', 1947, 2019, 'Vizag']\n",
      "['Gitam', 1947, 2019]\n"
     ]
    }
   ],
   "source": [
    "li=[\"Gitam\",1582,2019,\"Vizag\"]\n",
    "print(li)\n",
    "li[1]=1947\n",
    "print(li)\n",
    "del li[3]\n",
    "print(li)"
   ]
  },
  {
   "cell_type": "code",
   "execution_count": 63,
   "metadata": {},
   "outputs": [
    {
     "name": "stdout",
     "output_type": "stream",
     "text": [
      "5\n",
      "[1, 2, 3, 4, 5, 1, 2, 3, 4, 5]\n",
      "True\n",
      "False\n",
      "1 2 3 4 5 \n",
      "1 2 3 4 5 "
     ]
    }
   ],
   "source": [
    "li=[1,2,3,4,5]\n",
    "print(len(li))\n",
    "print(li*2)\n",
    "print(4 in li)\n",
    "print(10 in li)\n",
    "for i in range(len(li)):\n",
    "    print(li[i],end=\" \")\n",
    "print()\n",
    "for i in li:\n",
    "    print(i,end=\" \")"
   ]
  },
  {
   "cell_type": "code",
   "execution_count": 64,
   "metadata": {},
   "outputs": [
    {
     "name": "stdout",
     "output_type": "stream",
     "text": [
      "5\n",
      "1\n",
      "15\n",
      "3\n"
     ]
    }
   ],
   "source": [
    "li=[1,2,3,4,5]\n",
    "print(max(li))\n",
    "print(min(li))\n",
    "print(sum(li))\n",
    "print(sum(li)//len (li))"
   ]
  },
  {
   "cell_type": "code",
   "execution_count": 14,
   "metadata": {},
   "outputs": [
    {
     "name": "stdout",
     "output_type": "stream",
     "text": [
      "[1, 9, 16, 25, 5]\n",
      "[1, 9, 16, 25, 5, 29]\n",
      "[1, 9, 65, 16, 25, 5, 29]\n",
      "[1, 9, 65, 16, 25, 5, 29, 9]\n",
      "[1, 9, 65, 16, 25, 5, 29, 9]\n",
      "[1, 5, 9, 9, 16, 25, 29, 65]\n",
      "[1, 5, 9, 9, 16, 25, 29]\n",
      "[1, 5, 9, 16, 25, 29]\n"
     ]
    }
   ],
   "source": [
    "# Methods of List\n",
    "li=[1,9,16,25,5]\n",
    "print(li)\n",
    "li.append(29) # Appends the element to the list\n",
    "print(li)\n",
    "li.insert(2,65) # The new list item is added at the specified index\n",
    "print(li)\n",
    "li.append(9)\n",
    "li.count(9) # Used to find the count of the specified element\n",
    "print(li)\n",
    "li.index(65) # Used to return the index of the specified value\n",
    "print(li)\n",
    "li.sort() # Used to sort the list in ascending order\n",
    "print(li)\n",
    "li.pop() # Used to remove the last index value\n",
    "print(li)\n",
    "li.pop(3) # Used to remove the element at the specified index\n",
    "print(li)"
   ]
  },
  {
   "cell_type": "code",
   "execution_count": 15,
   "metadata": {},
   "outputs": [
    {
     "name": "stdout",
     "output_type": "stream",
     "text": [
      "[1, 2, 3, 4, 5, 1, 4, 9, 16, 25]\n",
      "[1, 1, 2, 3, 4, 4, 5, 9, 16, 25]\n"
     ]
    }
   ],
   "source": [
    "li1=[1,4,9,16,25]\n",
    "li=[1,2,3,4,5]\n",
    "li.extend(li1) # Used to extend or merge both the lists\n",
    "print(li)\n",
    "li.sort()\n",
    "print(li)"
   ]
  },
  {
   "cell_type": "code",
   "execution_count": 16,
   "metadata": {},
   "outputs": [
    {
     "name": "stdout",
     "output_type": "stream",
     "text": [
      "9\n",
      "6\n"
     ]
    }
   ],
   "source": [
    "def largest(li):\n",
    "    li.sort()\n",
    "    print(li[-1])\n",
    "def genericLarge(li,n):\n",
    "    li.sort()\n",
    "    print(li[-n])\n",
    "li=[1,3,9,8,5,6]\n",
    "largest(li)\n",
    "genericLarge(li,3)"
   ]
  },
  {
   "cell_type": "markdown",
   "metadata": {},
   "source": [
    "def least(li):\n",
    "    li.sort()\n",
    "    print(li[0])\n",
    "def genericLeast(li,n):\n",
    "    li.sort()\n",
    "    print(li[n-1])\n",
    "li=[1,3,8,9,0,5,6]\n",
    "least(li)\n",
    "genericLeast(li,3)"
   ]
  },
  {
   "cell_type": "markdown",
   "metadata": {},
   "source": [
    "### File Handling in Python\n",
    "- File is a Document which can take some information and resides on permanent devices\n",
    "- Different types of File extensions are .txt,.pdf,.doc,.ppt and etc.\n",
    "- Input - Keyboard\n",
    "- Output - File System"
   ]
  },
  {
   "cell_type": "markdown",
   "metadata": {},
   "source": [
    "### Steps in File Handling Process\n",
    "- Function to create some file and write some data into the file\n",
    "- Function to read the file\n",
    "- Analysis on the file -- Word Count,Digit Count,Char Count"
   ]
  },
  {
   "cell_type": "code",
   "execution_count": 12,
   "metadata": {},
   "outputs": [
    {
     "name": "stdout",
     "output_type": "stream",
     "text": [
      "File is successfully Created and data has been inserted \n"
     ]
    }
   ],
   "source": [
    "def createFile(filename):\n",
    "    f=open(filename,'w') # Here; w indicates write mode where we can write data into the file. If the file already exists then w indicates re-writing of the dat\n",
    "    for i in range(10):\n",
    "        f.write(\"This is %d line \\n\"  % i)\n",
    "    print(\"File is successfully Created and data has been inserted \")\n",
    "    return\n",
    "createFile(\"data.txt\")"
   ]
  },
  {
   "cell_type": "code",
   "execution_count": 6,
   "metadata": {},
   "outputs": [
    {
     "data": {
      "text/plain": [
       "'C:\\\\Users\\\\Amogh\\\\Desktop\\\\Problem Solving and Programming'"
      ]
     },
     "execution_count": 6,
     "metadata": {},
     "output_type": "execute_result"
    }
   ],
   "source": [
    "pwd # Present Working Directory"
   ]
  },
  {
   "cell_type": "code",
   "execution_count": 13,
   "metadata": {},
   "outputs": [
    {
     "name": "stdout",
     "output_type": "stream",
     "text": [
      "Operation Successfully Completed \n"
     ]
    }
   ],
   "source": [
    "def createFile(filename):\n",
    "    f=open(filename,'a')\n",
    "    f.write(\"Python Workshop\") # Previous Data will not be lost\n",
    "    print(\"Operation Successfully Completed \")\n",
    "    return\n",
    "createFile(\"data.txt\")"
   ]
  },
  {
   "cell_type": "code",
   "execution_count": 14,
   "metadata": {},
   "outputs": [
    {
     "name": "stdout",
     "output_type": "stream",
     "text": [
      "Operation Successfully Completed \n"
     ]
    }
   ],
   "source": [
    "#If no matching file is present then a file is created first and the data will be entered\n",
    "def appendFile(filename):\n",
    "    f=open(filename,'a')\n",
    "    f.write(\" Day-3\")\n",
    "    print(\"Operation Successfully Completed \")\n",
    "    return\n",
    "appendFile(\"data.txt\")"
   ]
  },
  {
   "cell_type": "code",
   "execution_count": 17,
   "metadata": {},
   "outputs": [
    {
     "name": "stdout",
     "output_type": "stream",
     "text": [
      "This is 0 line \n",
      "This is 1 line \n",
      "This is 2 line \n",
      "This is 3 line \n",
      "This is 4 line \n",
      "This is 5 line \n",
      "This is 6 line \n",
      "This is 7 line \n",
      "This is 8 line \n",
      "This is 9 line \n",
      "Python Workshop Day-3\n"
     ]
    }
   ],
   "source": [
    "def readFile(filename):\n",
    "    f=open(filename,'r')\n",
    "    if f.mode == 'r':\n",
    "        a=f.read()\n",
    "        print(a)\n",
    "    f.close()\n",
    "    return\n",
    "readFile(\"data.txt\")"
   ]
  },
  {
   "cell_type": "code",
   "execution_count": 23,
   "metadata": {},
   "outputs": [
    {
     "data": {
      "text/plain": [
       "43"
      ]
     },
     "execution_count": 23,
     "metadata": {},
     "output_type": "execute_result"
    }
   ],
   "source": [
    "def wordCount(filename):\n",
    "    with open(filename,'r') as f :\n",
    "        if f.mode == 'r':\n",
    "            a=f.read()\n",
    "            li=a.split()\n",
    "    return len(li)\n",
    "wordCount(\"data.txt\")"
   ]
  },
  {
   "cell_type": "code",
   "execution_count": 19,
   "metadata": {},
   "outputs": [
    {
     "name": "stdout",
     "output_type": "stream",
     "text": [
      "['Py', 'th', 'on', 'Pro', 'gr', 'am', 'm', 'ing']\n"
     ]
    }
   ],
   "source": [
    "s1=\"Py th on Pro gr am m ing\" # Used to split a string as seperate words into a list\n",
    "print(s1.split())"
   ]
  },
  {
   "cell_type": "code",
   "execution_count": 28,
   "metadata": {},
   "outputs": [
    {
     "name": "stdout",
     "output_type": "stream",
     "text": [
      "10\n",
      "1\n"
     ]
    }
   ],
   "source": [
    "def specwordCount(filename,word):\n",
    "    with open(filename,'r') as f:\n",
    "        if f.mode == 'r':\n",
    "            a=f.read()\n",
    "            li=a.split()\n",
    "    print(li.count(word))\n",
    "    return\n",
    "specwordCount(\"data.txt\",\"This\")\n",
    "specwordCount(\"data.txt\",\"Python\")"
   ]
  },
  {
   "cell_type": "code",
   "execution_count": 31,
   "metadata": {},
   "outputs": [
    {
     "data": {
      "text/plain": [
       "181"
      ]
     },
     "execution_count": 31,
     "metadata": {},
     "output_type": "execute_result"
    }
   ],
   "source": [
    "def charCount(filename):\n",
    "    with open(filename,'r') as f:\n",
    "        if f.mode == 'r':\n",
    "            a=f.read()\n",
    "            li=list(a)\n",
    "    return len(li)\n",
    "charCount(\"data.txt\")"
   ]
  },
  {
   "cell_type": "code",
   "execution_count": 30,
   "metadata": {},
   "outputs": [
    {
     "name": "stdout",
     "output_type": "stream",
     "text": [
      "['P', 'y', 't', 'h', 'o', 'n', ' ', 'P', 'r', 'o', 'g', 'r', 'a', 'm', 'm', 'i', 'n', 'g']\n"
     ]
    }
   ],
   "source": [
    "s=\"Python Programming\"\n",
    "li=list(s) # Used to convert the given string into a sequence of characters\n",
    "print(li)"
   ]
  },
  {
   "cell_type": "code",
   "execution_count": 33,
   "metadata": {},
   "outputs": [
    {
     "data": {
      "text/plain": [
       "11"
      ]
     },
     "execution_count": 33,
     "metadata": {},
     "output_type": "execute_result"
    }
   ],
   "source": [
    "def findLineCount(filename):\n",
    "    with open(filename,'r') as f:\n",
    "        if f.mode == 'r':\n",
    "            a=f.read()\n",
    "            li=a.split('\\n')\n",
    "    return len(li)\n",
    "findLineCount(\"data.txt\")"
   ]
  },
  {
   "cell_type": "code",
   "execution_count": 36,
   "metadata": {},
   "outputs": [
    {
     "data": {
      "text/plain": [
       "'Upper Case : 13 Lower Case : 104 Digit Count : 11'"
      ]
     },
     "execution_count": 36,
     "metadata": {},
     "output_type": "execute_result"
    }
   ],
   "source": [
    "def caseCount(filename):\n",
    "    uc=0\n",
    "    lc=0\n",
    "    dc=0\n",
    "    with open(filename,'r') as f:\n",
    "        if f.mode == 'r':\n",
    "            a=f.read()\n",
    "            li=list(a)\n",
    "        for i in range(len(li)):\n",
    "            if(ord(li[i])>=65 and ord(li[i])<=90): # can also use isupper()\n",
    "                uc+=1\n",
    "            elif(ord(li[i])>=97 and ord(li[i])<=122): # can also use islower()\n",
    "                lc+=1\n",
    "            elif(ord(li[i])>=48 and ord(li[i])<=57): # can also use isnumeric()\n",
    "                dc+=1\n",
    "        output = 'Upper Case : {0} Lower Case : {1} Digit Count : {2}'.format(uc,lc,dc)\n",
    "        return output\n",
    "caseCount(\"data.txt\")   "
   ]
  },
  {
   "cell_type": "markdown",
   "metadata": {},
   "source": [
    "### String Formatting\n",
    "- Classic Version\n",
    "- Current Version Python"
   ]
  },
  {
   "cell_type": "code",
   "execution_count": 34,
   "metadata": {},
   "outputs": [
    {
     "name": "stdout",
     "output_type": "stream",
     "text": [
      "Python Programming\n"
     ]
    }
   ],
   "source": [
    "# Classic Version (c or c++')\n",
    "li=[\"Python\",\"Programming\"]\n",
    "print('%s %s'%(li[0],li[1]))"
   ]
  },
  {
   "cell_type": "code",
   "execution_count": 35,
   "metadata": {},
   "outputs": [
    {
     "name": "stdout",
     "output_type": "stream",
     "text": [
      "1 2 3 4\n"
     ]
    }
   ],
   "source": [
    "li=[1,2,3,4]\n",
    "print('%d %d %d %d' %(li[0],li[1],li[2],li[3]))"
   ]
  },
  {
   "cell_type": "code",
   "execution_count": 37,
   "metadata": {},
   "outputs": [
    {
     "name": "stdout",
     "output_type": "stream",
     "text": [
      "List Item 0 : Python \n",
      "List Item 1 : Programming\n"
     ]
    }
   ],
   "source": [
    "# .format\n",
    "li=[\"Python\",\"Programming\"]\n",
    "print(\"List Item 0 : {0} \\nList Item 1 : {1}\".format(li[0],li[1]))"
   ]
  },
  {
   "cell_type": "code",
   "execution_count": 42,
   "metadata": {},
   "outputs": [
    {
     "name": "stdout",
     "output_type": "stream",
     "text": [
      "1 2 3 4\n",
      "3\n"
     ]
    }
   ],
   "source": [
    "li=[1,2,3,4]\n",
    "print('{0} {1} {2} {3}'.format(li[0],li[1],li[2],li[3]))\n",
    "print(\"{0}\".format(li[2]))"
   ]
  },
  {
   "cell_type": "markdown",
   "metadata": {},
   "source": [
    "### String Methods \n",
    "- split() -- returns the list of strings seperated by whitespace. split('char') splits after the character is encountered\n",
    "- replace() -- returns the string replaced by word or character\n",
    "- join() -- used for the joining operation"
   ]
  },
  {
   "cell_type": "code",
   "execution_count": 33,
   "metadata": {},
   "outputs": [
    {
     "name": "stdout",
     "output_type": "stream",
     "text": [
      "PythonProgram\n",
      "PPythonrPythonoPythongPythonrPythonaPythonm\n"
     ]
    }
   ],
   "source": [
    "s1=\"Python\"\n",
    "s2=\"Program\"\n",
    "print(s1+s2)\n",
    "print(s1.join(s2))"
   ]
  },
  {
   "cell_type": "code",
   "execution_count": 25,
   "metadata": {},
   "outputs": [
    {
     "name": "stdout",
     "output_type": "stream",
     "text": [
      "Python-Programming-Learn-Made-Easy\n",
      "Python Progr@mming Le@rn M@de E@sy\n"
     ]
    }
   ],
   "source": [
    "s1=\"Python Programming Learn Made Easy\"\n",
    "print(s1.replace(' ','-'))\n",
    "print(s1.replace('a','@'))"
   ]
  },
  {
   "cell_type": "code",
   "execution_count": 2,
   "metadata": {},
   "outputs": [
    {
     "name": "stdout",
     "output_type": "stream",
     "text": [
      "Enter a string with multiple words Welcome to Python Programming\n",
      "t o p r o g r a m m i n g "
     ]
    }
   ],
   "source": [
    "def wordLowerCase(s):\n",
    "    sc=0\n",
    "    for i in range(len(s)):\n",
    "        if(ord(s[i])==32):\n",
    "            sc=sc+1\n",
    "        if(sc==1 or sc==3 or sc==5):\n",
    "            if(ord(s[i])>=97 and (ord(s[i])<=122)):\n",
    "                print(s[i],end=\" \")\n",
    "            elif(ord(s[i])>=65 and ord(s[i])<=90):\n",
    "                print(chr(ord(s[i])+32),end=\" \")\n",
    "s=input(\"Enter a string with multiple words \")\n",
    "wordLowerCase(s)"
   ]
  },
  {
   "cell_type": "code",
   "execution_count": 22,
   "metadata": {},
   "outputs": [
    {
     "name": "stdout",
     "output_type": "stream",
     "text": [
      "p Y t H o N "
     ]
    }
   ],
   "source": [
    "def charconv():\n",
    "     s=input(\"Enter a string \")\n",
    "    for i in range(len(s)):\n",
    "        if(ord(s[i])>=65 and ord(s[i])<=90):\n",
    "            print(chr(ord(s[i])+32),end=\" \")\n",
    "        elif(ord(s[i])>=97 and ord(s[i])<=122):\n",
    "            print(chr(ord(s[i])-32),end=\" \")\n",
    "    return\n",
    "charconv()"
   ]
  },
  {
   "cell_type": "code",
   "execution_count": 12,
   "metadata": {},
   "outputs": [
    {
     "name": "stdout",
     "output_type": "stream",
     "text": [
      "Enter a string python programming\n",
      "Enter the character you want to search p\n",
      "2\n"
     ]
    }
   ],
   "source": [
    "def occ():\n",
    "    s=input(\"Enter a string \")\n",
    "    c= input(\"Enter the character you want to search \")\n",
    "    t=ord(c)\n",
    "    a=0\n",
    "    for i in range(len(s)):\n",
    "        if(ord(s[i]) == t):\n",
    "            a=a+1\n",
    "    print(a)\n",
    "    return\n",
    "occ()"
   ]
  },
  {
   "cell_type": "code",
   "execution_count": 13,
   "metadata": {},
   "outputs": [
    {
     "name": "stdout",
     "output_type": "stream",
     "text": [
      "Enter a string Application1889\n",
      "16\n"
     ]
    }
   ],
   "source": [
    "def evenNumberSum():\n",
    "    s=input(\"Enter a string \")\n",
    "    t=0\n",
    "    for i in range(len(s)):\n",
    "        if(ord(s[i]) == 50 or ord(s[i]) == 52 or ord(s[i]) == 54 or ord(s[i]) ==56):\n",
    "            t=t+int(s[i])\n",
    "    print(t)\n",
    "    return\n",
    "evenNumberSum()"
   ]
  },
  {
   "cell_type": "code",
   "execution_count": 44,
   "metadata": {},
   "outputs": [
    {
     "name": "stdout",
     "output_type": "stream",
     "text": [
      "Enter a string Hello\n"
     ]
    },
    {
     "ename": "TypeError",
     "evalue": "'type' object is not subscriptable",
     "output_type": "error",
     "traceback": [
      "\u001b[1;31m---------------------------------------------------------------------------\u001b[0m",
      "\u001b[1;31mTypeError\u001b[0m                                 Traceback (most recent call last)",
      "\u001b[1;32m<ipython-input-44-534ec75a52ac>\u001b[0m in \u001b[0;36m<module>\u001b[1;34m\u001b[0m\n\u001b[0;32m      5\u001b[0m             \u001b[0mstr\u001b[0m\u001b[1;33m[\u001b[0m\u001b[0mi\u001b[0m\u001b[1;33m]\u001b[0m\u001b[1;33m=\u001b[0m\u001b[0mchar\u001b[0m\u001b[1;33m(\u001b[0m\u001b[0mord\u001b[0m\u001b[1;33m(\u001b[0m\u001b[0mstr\u001b[0m\u001b[1;33m[\u001b[0m\u001b[0mi\u001b[0m\u001b[1;33m]\u001b[0m\u001b[1;33m)\u001b[0m\u001b[1;33m+\u001b[0m\u001b[1;36m1\u001b[0m\u001b[1;33m)\u001b[0m\u001b[1;33m\u001b[0m\u001b[1;33m\u001b[0m\u001b[0m\n\u001b[0;32m      6\u001b[0m             \u001b[0mprint\u001b[0m\u001b[1;33m(\u001b[0m\u001b[0mstr\u001b[0m\u001b[1;33m[\u001b[0m\u001b[0mi\u001b[0m\u001b[1;33m]\u001b[0m\u001b[1;33m,\u001b[0m\u001b[0mend\u001b[0m\u001b[1;33m=\u001b[0m\u001b[1;34m\" \"\u001b[0m\u001b[1;33m)\u001b[0m\u001b[1;33m\u001b[0m\u001b[1;33m\u001b[0m\u001b[0m\n\u001b[1;32m----> 7\u001b[1;33m \u001b[0mvtoc\u001b[0m\u001b[1;33m(\u001b[0m\u001b[1;33m)\u001b[0m\u001b[1;33m\u001b[0m\u001b[1;33m\u001b[0m\u001b[0m\n\u001b[0m",
      "\u001b[1;32m<ipython-input-44-534ec75a52ac>\u001b[0m in \u001b[0;36mvtoc\u001b[1;34m()\u001b[0m\n\u001b[0;32m      2\u001b[0m     \u001b[0ms\u001b[0m\u001b[1;33m=\u001b[0m\u001b[0minput\u001b[0m\u001b[1;33m(\u001b[0m\u001b[1;34m\"Enter a string \"\u001b[0m\u001b[1;33m)\u001b[0m\u001b[1;33m\u001b[0m\u001b[1;33m\u001b[0m\u001b[0m\n\u001b[0;32m      3\u001b[0m     \u001b[1;32mfor\u001b[0m \u001b[0mi\u001b[0m \u001b[1;32min\u001b[0m \u001b[0mrange\u001b[0m\u001b[1;33m(\u001b[0m\u001b[0mlen\u001b[0m\u001b[1;33m(\u001b[0m\u001b[0ms\u001b[0m\u001b[1;33m)\u001b[0m\u001b[1;33m)\u001b[0m\u001b[1;33m:\u001b[0m\u001b[1;33m\u001b[0m\u001b[1;33m\u001b[0m\u001b[0m\n\u001b[1;32m----> 4\u001b[1;33m         \u001b[1;32mif\u001b[0m\u001b[1;33m(\u001b[0m\u001b[0mstr\u001b[0m\u001b[1;33m[\u001b[0m\u001b[0mi\u001b[0m\u001b[1;33m]\u001b[0m \u001b[1;33m==\u001b[0m \u001b[1;34m'a'\u001b[0m \u001b[1;32mor\u001b[0m \u001b[0mstr\u001b[0m\u001b[1;33m[\u001b[0m\u001b[0mi\u001b[0m\u001b[1;33m]\u001b[0m \u001b[1;33m==\u001b[0m\u001b[1;34m'A'\u001b[0m \u001b[1;32mor\u001b[0m \u001b[0mstr\u001b[0m\u001b[1;33m[\u001b[0m\u001b[0mi\u001b[0m\u001b[1;33m]\u001b[0m \u001b[1;33m==\u001b[0m \u001b[1;34m'e'\u001b[0m \u001b[1;32mor\u001b[0m \u001b[0mstr\u001b[0m\u001b[1;33m[\u001b[0m\u001b[0mi\u001b[0m\u001b[1;33m]\u001b[0m \u001b[1;33m==\u001b[0m \u001b[1;34m'E'\u001b[0m \u001b[1;32mor\u001b[0m \u001b[0mstr\u001b[0m\u001b[1;33m[\u001b[0m\u001b[0mi\u001b[0m\u001b[1;33m]\u001b[0m \u001b[1;33m==\u001b[0m \u001b[1;34m'o'\u001b[0m \u001b[1;32mor\u001b[0m \u001b[0mstr\u001b[0m\u001b[1;33m[\u001b[0m\u001b[0mi\u001b[0m\u001b[1;33m]\u001b[0m \u001b[1;33m==\u001b[0m \u001b[1;34m'O'\u001b[0m \u001b[1;32mor\u001b[0m \u001b[0mstr\u001b[0m\u001b[1;33m[\u001b[0m\u001b[0mi\u001b[0m\u001b[1;33m]\u001b[0m \u001b[1;33m==\u001b[0m \u001b[1;34m'u'\u001b[0m \u001b[1;32mor\u001b[0m \u001b[0mstr\u001b[0m\u001b[1;33m[\u001b[0m\u001b[0mi\u001b[0m\u001b[1;33m]\u001b[0m \u001b[1;33m==\u001b[0m \u001b[1;34m'U'\u001b[0m\u001b[1;33m)\u001b[0m\u001b[1;33m:\u001b[0m\u001b[1;33m\u001b[0m\u001b[1;33m\u001b[0m\u001b[0m\n\u001b[0m\u001b[0;32m      5\u001b[0m             \u001b[0mstr\u001b[0m\u001b[1;33m[\u001b[0m\u001b[0mi\u001b[0m\u001b[1;33m]\u001b[0m\u001b[1;33m=\u001b[0m\u001b[0mchar\u001b[0m\u001b[1;33m(\u001b[0m\u001b[0mord\u001b[0m\u001b[1;33m(\u001b[0m\u001b[0mstr\u001b[0m\u001b[1;33m[\u001b[0m\u001b[0mi\u001b[0m\u001b[1;33m]\u001b[0m\u001b[1;33m)\u001b[0m\u001b[1;33m+\u001b[0m\u001b[1;36m1\u001b[0m\u001b[1;33m)\u001b[0m\u001b[1;33m\u001b[0m\u001b[1;33m\u001b[0m\u001b[0m\n\u001b[0;32m      6\u001b[0m             \u001b[0mprint\u001b[0m\u001b[1;33m(\u001b[0m\u001b[0mstr\u001b[0m\u001b[1;33m[\u001b[0m\u001b[0mi\u001b[0m\u001b[1;33m]\u001b[0m\u001b[1;33m,\u001b[0m\u001b[0mend\u001b[0m\u001b[1;33m=\u001b[0m\u001b[1;34m\" \"\u001b[0m\u001b[1;33m)\u001b[0m\u001b[1;33m\u001b[0m\u001b[1;33m\u001b[0m\u001b[0m\n",
      "\u001b[1;31mTypeError\u001b[0m: 'type' object is not subscriptable"
     ]
    }
   ],
   "source": [
    "def vtoc():\n",
    "    s=input(\"Enter a string \")\n",
    "    for i in range(len(s)):\n",
    "        if(str[i] == 'a' or str[i] =='A' or str[i] == 'e' or str[i] == 'E' or str[i] == 'o' or str[i] == 'O' or str[i] == 'u' or str[i] == 'U'):\n",
    "            str[i]=char(ord(str[i])+1)\n",
    "            print(str[i],end=\" \")\n",
    "vtoc()"
   ]
  },
  {
   "cell_type": "code",
   "execution_count": 14,
   "metadata": {},
   "outputs": [
    {
     "name": "stdout",
     "output_type": "stream",
     "text": [
      "PYTHON\n",
      "python\n"
     ]
    }
   ],
   "source": [
    "s1=\"Python\"\n",
    "print(s1.upper())\n",
    "print(s1.lower())"
   ]
  },
  {
   "cell_type": "markdown",
   "metadata": {},
   "source": [
    "### String Boolean Functions \n",
    "- True or False\n",
    "- islower() -> True if all the characters in the string are lower case\n",
    "- isupper() -> True if all the characters in the string are upper case\n",
    "- istitle() -> True if the first character of every word is in upper case\n",
    "- isnumeric() -> True if all are numbers in the string\n",
    "- isalpha() -> True if all are characters in the string\n",
    "- isempty() ->"
   ]
  },
  {
   "cell_type": "code",
   "execution_count": 23,
   "metadata": {},
   "outputs": [
    {
     "name": "stdout",
     "output_type": "stream",
     "text": [
      "True\n",
      "True\n",
      "False\n",
      "True\n"
     ]
    }
   ],
   "source": [
    "s1= \"Python Programming \"\n",
    "s2= \"345678\"\n",
    "s3= \" \"\n",
    "print(s1.istitle())\n",
    "print(s2.isnumeric())\n",
    "print(s1.isalpha())\n",
    "print(s3.isspace())"
   ]
  },
  {
   "cell_type": "code",
   "execution_count": null,
   "metadata": {},
   "outputs": [],
   "source": []
  },
  {
   "cell_type": "code",
   "execution_count": null,
   "metadata": {},
   "outputs": [],
   "source": []
  }
 ],
 "metadata": {
  "kernelspec": {
   "display_name": "Python 3",
   "language": "python",
   "name": "python3"
  },
  "language_info": {
   "codemirror_mode": {
    "name": "ipython",
    "version": 3
   },
   "file_extension": ".py",
   "mimetype": "text/x-python",
   "name": "python",
   "nbconvert_exporter": "python",
   "pygments_lexer": "ipython3",
   "version": "3.7.3"
  }
 },
 "nbformat": 4,
 "nbformat_minor": 2
}
