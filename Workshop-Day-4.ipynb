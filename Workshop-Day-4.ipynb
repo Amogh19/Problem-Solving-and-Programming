{
 "cells": [
  {
   "cell_type": "markdown",
   "metadata": {},
   "source": [
    "### Data Structures\n",
    "- Lists\n",
    "- Tuples\n",
    "- Dictionaries"
   ]
  },
  {
   "cell_type": "markdown",
   "metadata": {},
   "source": [
    "### Dictionaries\n",
    "- It works on the concept of Unique Data\n",
    "- It always works with Key,Value as a unique identifier\n",
    "- Each Key is seperated from value by using a colon\n",
    "- Each Key and Value is seperated by using a comma\n",
    "- Dicitonaries are enclosed with Curly Braces"
   ]
  },
  {
   "cell_type": "code",
   "execution_count": 4,
   "metadata": {},
   "outputs": [
    {
     "data": {
      "text/plain": [
       "'gitam@hotmail.com'"
      ]
     },
     "execution_count": 4,
     "metadata": {},
     "output_type": "execute_result"
    }
   ],
   "source": [
    "d1={\"Name\":\"Gitam\",\"E-mail ID\":\"gitam_edu@gmail.com\",\"Address\":\"Rushikonda,Visakhapatnam\"}\n",
    "d1[\"E-mail ID\"]\n",
    "d1[\"E-mail ID\"] = \"gitam@hotmail.com\"\n",
    "d1[\"E-mail ID\"]"
   ]
  },
  {
   "cell_type": "code",
   "execution_count": 7,
   "metadata": {},
   "outputs": [
    {
     "name": "stdout",
     "output_type": "stream",
     "text": [
      "dict_keys(['Name', 'E-mail ID', 'Address'])\n"
     ]
    }
   ],
   "source": [
    "d1.keys()\n",
    "li=d1.keys()\n",
    "print(li) # Same as above statement d1.keys()"
   ]
  },
  {
   "cell_type": "code",
   "execution_count": 6,
   "metadata": {},
   "outputs": [
    {
     "data": {
      "text/plain": [
       "dict_values(['Gitam', 'gitam@hotmail.com', 'Rushikonda,Visakhapatnam'])"
      ]
     },
     "execution_count": 6,
     "metadata": {},
     "output_type": "execute_result"
    }
   ],
   "source": [
    "d1.values()\n",
    "# del d1[\"key\"] deletes the specific key and value"
   ]
  },
  {
   "cell_type": "markdown",
   "metadata": {},
   "source": [
    "### Contact Application \n",
    "- Add contact details\n",
    "- Search for the contact details\n",
    "- List the Contacts(Merge/Import):\n",
    "     - List 1 \n",
    "     - List 2\n",
    "- Modify the contacts\n",
    "- Delete the contacts"
   ]
  },
  {
   "cell_type": "code",
   "execution_count": 19,
   "metadata": {},
   "outputs": [
    {
     "name": "stdout",
     "output_type": "stream",
     "text": [
      "Contact Details are added successfully\n",
      "Contact Details are added successfully\n"
     ]
    }
   ],
   "source": [
    "contacts = {} # Empty Dictionary Object\n",
    "#Let's Create a function to add a contact\n",
    "def addContact(name,number):\n",
    "    if name not in contacts : # Condition to check whether name exists or not\n",
    "        contacts[name]=number\n",
    "        print(\"Contact Details are added successfully\")\n",
    "    else:\n",
    "        print(\"Contact Details already exist\")\n",
    "    return\n",
    "addContact(\"Amogh\",\"8897594629\")\n",
    "addContact(\"Ajay\",\"9876543210\")\n"
   ]
  },
  {
   "cell_type": "code",
   "execution_count": 20,
   "metadata": {},
   "outputs": [
    {
     "data": {
      "text/plain": [
       "{'Amogh': '8897594629', 'Ajay': '9876543210'}"
      ]
     },
     "execution_count": 20,
     "metadata": {},
     "output_type": "execute_result"
    }
   ],
   "source": [
    "contacts"
   ]
  },
  {
   "cell_type": "code",
   "execution_count": 24,
   "metadata": {},
   "outputs": [
    {
     "name": "stdout",
     "output_type": "stream",
     "text": [
      "Amogh  :  8897594629\n",
      "Ajay  :  9876543210\n"
     ]
    }
   ],
   "source": [
    "def searchContact(name):\n",
    "    if name in contacts:\n",
    "        print(name,\" : \",contacts[name])\n",
    "    else:\n",
    "        (print('%s does not exist' % contacts[name]))\n",
    "    return\n",
    "searchContact(\"Amogh\")\n",
    "searchContact(\"Ajay\")"
   ]
  },
  {
   "cell_type": "code",
   "execution_count": 25,
   "metadata": {},
   "outputs": [
    {
     "name": "stdout",
     "output_type": "stream",
     "text": [
      "2 Contacts are added\n"
     ]
    }
   ],
   "source": [
    "# Import new contact details\n",
    "# Merge the previous details with new details\n",
    "def importContacts(newContacts):\n",
    "    contacts.update(newContacts)\n",
    "    print(len(newContacts.keys()),'Contacts are added')\n",
    "    return\n",
    "newContacts={\"me\":1234567890,\"You\":7894561230}\n",
    "importContacts(newContacts)"
   ]
  },
  {
   "cell_type": "code",
   "execution_count": 26,
   "metadata": {},
   "outputs": [
    {
     "data": {
      "text/plain": [
       "{'Amogh': '8897594629',\n",
       " 'Ajay': '9876543210',\n",
       " 'me': 1234567890,\n",
       " 'You': 7894561230}"
      ]
     },
     "execution_count": 26,
     "metadata": {},
     "output_type": "execute_result"
    }
   ],
   "source": [
    "contacts"
   ]
  },
  {
   "cell_type": "code",
   "execution_count": 29,
   "metadata": {},
   "outputs": [
    {
     "name": "stdout",
     "output_type": "stream",
     "text": [
      "Ajay Updated Successfully\n",
      "Police  Doesn't exist\n"
     ]
    }
   ],
   "source": [
    "def modifyContact(name,number):\n",
    "    if name in contacts:\n",
    "        contacts[name]=number\n",
    "        print(name,\"Updated Successfully\")\n",
    "    else:\n",
    "        print(name,\" Doesn't exist\")\n",
    "    return\n",
    "modifyContact(\"Ajay\",951236487)\n",
    "modifyContact(\"Police\",1203645189)"
   ]
  },
  {
   "cell_type": "code",
   "execution_count": 31,
   "metadata": {},
   "outputs": [
    {
     "name": "stdout",
     "output_type": "stream",
     "text": [
      "Amogh Not Present\n"
     ]
    }
   ],
   "source": [
    "def deleteContact(name):\n",
    "    if name in contacts:\n",
    "        del contacts[name]\n",
    "        print(name,\"Deleted Successfuly\")\n",
    "    else:\n",
    "        print(name,\"Not Present\")\n",
    "    return\n",
    "deleteContact(\"Amogh\")"
   ]
  },
  {
   "cell_type": "markdown",
   "metadata": {},
   "source": [
    "### Tuples\n",
    "- They are enclosed in parentheses()\n",
    "### Differences between Tuples and List\n",
    "- Lists are mutable\n",
    "   - Can be modified i.e. data can be read and write\n",
    "- Tuples are immutable\n",
    "   - Can't be changed or modified i.e. read data only"
   ]
  },
  {
   "cell_type": "code",
   "execution_count": 33,
   "metadata": {},
   "outputs": [
    {
     "name": "stdout",
     "output_type": "stream",
     "text": [
      "(1, 2, 3, 4, 5)\n",
      "(2, 1)\n"
     ]
    }
   ],
   "source": [
    "t1=(1,2,3,4,5)\n",
    "print(t1)\n",
    "print(t1[1::-1])"
   ]
  },
  {
   "cell_type": "markdown",
   "metadata": {},
   "source": [
    "### Standard Libraries\n",
    " - Regular Expressions\n",
    "    - To validate the Indian Mobile Number\n",
    "    - To validate the e-mail id\n",
    "    - To validate the username\n",
    "    - To validate the password\n",
    " - Understanding the Regular Expressions\n",
    "    - 0-9 -- Any digit matching\n",
    "    - a-z -- Lower case matching\n",
    "    - A-Z -- Upper case matching\n",
    "    - Cap symbol is used to denote the start of Regular Expression\n",
    "    - Dollar symbol is used to denote the end of Regular Expression"
   ]
  },
  {
   "cell_type": "code",
   "execution_count": 35,
   "metadata": {},
   "outputs": [
    {
     "name": "stdout",
     "output_type": "stream",
     "text": [
      "True\n",
      "False\n"
     ]
    }
   ],
   "source": [
    "# Function to test a two digit number as input\n",
    "# True -- Input is a two digit number\n",
    "# False -- Input is not a two digit number\n",
    "import re # Standard Library to import a regular expression\n",
    "def twoDigitChecking(n):\n",
    "    pattern = '^[0-9]{2}$'\n",
    "    n=str(n) # The str function converts the input to a string format\n",
    "    if(re.match(pattern,n)):\n",
    "        return True\n",
    "    return False\n",
    "print(twoDigitChecking(12))\n",
    "print(twoDigitChecking(123))"
   ]
  },
  {
   "cell_type": "code",
   "execution_count": 42,
   "metadata": {},
   "outputs": [
    {
     "name": "stdout",
     "output_type": "stream",
     "text": [
      "True\n",
      "False\n"
     ]
    }
   ],
   "source": [
    "# Regular Expression for username\n",
    "# Username -- Should contain lowercase and uppercase characters\n",
    "# Minimum Length is 5 whereas Maximum Length is 12\n",
    "import re\n",
    "def userNameChecking(s):\n",
    "    pattern = '^[a-zA-Z]{5,11}$'\n",
    "    if(re.match(pattern,s)):\n",
    "        return True\n",
    "    return False\n",
    "print(userNameChecking(\"Amogh\"))\n",
    "print(userNameChecking(\"Helo\"))"
   ]
  },
  {
   "cell_type": "markdown",
   "metadata": {},
   "source": [
    "### Regular Expression for Roll Number\n",
    "- Regular Expression for Roll Number\n",
    "   - Example : 1521A0501 # Valid\n",
    "   - Example : 1621A0704 # Not Valid\n",
    "   - Rule = [1-5]{4}[A][0-5]{4}$\n",
    "- Regular Expression for Password\n",
    "   - Password - Len min 6 max 10\n",
    "   - Accept lower case, upper case, numeric,special characters\n",
    "   - Rule = ^[a-zA-Z0-9@!#]{6,11}$"
   ]
  },
  {
   "cell_type": "code",
   "execution_count": 64,
   "metadata": {},
   "outputs": [
    {
     "name": "stdout",
     "output_type": "stream",
     "text": [
      "True\n",
      "False\n"
     ]
    }
   ],
   "source": [
    "import re\n",
    "def rollNumberChecking(s):\n",
    "    pattern='^[1-5]{4}[A][0-5]{4}$'\n",
    "    if(re.match(pattern,s)):\n",
    "        return True\n",
    "    return False\n",
    "print(rollNumberChecking(\"1521A0501\"))\n",
    "print(rollNumberChecking(\"1621A0704\"))"
   ]
  },
  {
   "cell_type": "code",
   "execution_count": 65,
   "metadata": {},
   "outputs": [
    {
     "name": "stdout",
     "output_type": "stream",
     "text": [
      "True\n",
      "False\n"
     ]
    }
   ],
   "source": [
    "import re\n",
    "def passwordChecking(s):\n",
    "    pattern='^[a-zA-Z0-9@!#]{6,11}$'\n",
    "    if(re.match(pattern,s)):\n",
    "        return True\n",
    "    return False\n",
    "print(passwordChecking(\"Pass123@21\"))\n",
    "print(passwordChecking(\"Pass*1232\"))"
   ]
  },
  {
   "cell_type": "markdown",
   "metadata": {},
   "source": [
    "### Regular Expression for Indian Mobile Number\n",
    "- 10 digit number\n",
    "  - First Number starts from 6 to 9\n",
    "  - Rest of 9 Numbers are between 0 to 9\n",
    "  - Result 1 = ^[6-9][0-9]{9}$"
   ]
  },
  {
   "cell_type": "markdown",
   "metadata": {},
   "source": [
    "### Another Expression for Indian Mobile Number\n",
    "- 11 digit number\n",
    "   - First number can be zero\n",
    "   - Second number can be from 6 to 9\n",
    "   - Third number can be from 0 to 9\n",
    "   - Result 2 = ^[0][6-9][0-9]{9}$\n"
   ]
  },
  {
   "cell_type": "markdown",
   "metadata": {},
   "source": [
    "### Third Expression for Indian Mobile Number\n",
    "- 13 digit number\n",
    "   - First number is +\n",
    "   - Second number is 9\n",
    "   - Third number is 1\n",
    "   - Fourth number can be from 6 to 9\n",
    "   - Other numbers can be from 0 to 9\n",
    "   - Result 3 = ^[+][9][1][6-9][0-9]{9}$"
   ]
  },
  {
   "cell_type": "code",
   "execution_count": 63,
   "metadata": {},
   "outputs": [
    {
     "name": "stdout",
     "output_type": "stream",
     "text": [
      "True\n",
      "True\n"
     ]
    }
   ],
   "source": [
    "import re\n",
    "def validPhoneNumber(n):\n",
    "    pattern = '^[6-9][0-9]{9}$|^[0][6-9][0-9]{9}$|^[+][9][1][6-9][0-9]{9}$'\n",
    "    n=str(n)\n",
    "    if(re.match(pattern,n)):\n",
    "        return True\n",
    "    return False\n",
    "print(validPhoneNumber(\"8897594629\"))\n",
    "print(validPhoneNumber(\"+918897594629\"))\n",
    "    "
   ]
  },
  {
   "cell_type": "markdown",
   "metadata": {},
   "source": [
    "### Regular Expression for validating E-mail ID\n",
    "- General Syntax = username@domainname.extension\n",
    "- Example = vc@gmail.com\n",
    "- Username :\n",
    "   - Length of username will be from 6 to 15\n",
    "   - No special characters except underscore\n",
    "   - Username should not start with underscore\n",
    "   - The Character set is digits,upper case and lower case\n",
    "- Domain Name :\n",
    "   - Length of string will be 3 to 18\n",
    "   - No special characters\n",
    "   - The Character set is upper and lower case ,digits\n",
    "- Extension : \n",
    "   - Length of the string can be from 2 to 5\n",
    "   - No special characters except .\n",
    "   - The character set is lower case characters"
   ]
  },
  {
   "cell_type": "code",
   "execution_count": 68,
   "metadata": {},
   "outputs": [
    {
     "name": "stdout",
     "output_type": "stream",
     "text": [
      "True\n",
      "False\n"
     ]
    }
   ],
   "source": [
    "import re\n",
    "def validEmailId(s):\n",
    "    pattern = '^[a-zA-Z0-9][a-zA-Z0-9_.]{6,15}[@][a-zA-Z0-9]{3,19}[.][a-z.]{2,6}'\n",
    "    if(re.match(pattern,s)):\n",
    "        return True\n",
    "    return False\n",
    "print(validEmailId(\"pythonpro@gmail.co.in\"))\n",
    "print(validEmailId(\"_pythonpro@gmail.co.in\"))\n",
    "    "
   ]
  },
  {
   "cell_type": "markdown",
   "metadata": {},
   "source": [
    "### Python Graphics\n",
    " - Lib - Turtle"
   ]
  },
  {
   "cell_type": "markdown",
   "metadata": {},
   "source": [
    "### Package, Module and Sub-Package\n",
    "- Package\n",
    "   - A collection of all the Modules(Single Python File.py)\n",
    "- Module\n",
    "   - A single Python File contains a group of functions\n",
    "   - Package -> Sub-Package -> Modules -> Functions -> Statements\n",
    "   - The import keyword is used to import external library packages into the progrsm"
   ]
  },
  {
   "cell_type": "code",
   "execution_count": 69,
   "metadata": {},
   "outputs": [
    {
     "data": {
      "text/plain": [
       "123"
      ]
     },
     "execution_count": 69,
     "metadata": {},
     "output_type": "execute_result"
    }
   ],
   "source": [
    "import math\n",
    "math.floor(123.456)"
   ]
  },
  {
   "cell_type": "code",
   "execution_count": 70,
   "metadata": {},
   "outputs": [
    {
     "data": {
      "text/plain": [
       "1234"
      ]
     },
     "execution_count": 70,
     "metadata": {},
     "output_type": "execute_result"
    }
   ],
   "source": [
    "math.ceil(1233.456)"
   ]
  },
  {
   "cell_type": "code",
   "execution_count": 71,
   "metadata": {},
   "outputs": [
    {
     "data": {
      "text/plain": [
       "3628800"
      ]
     },
     "execution_count": 71,
     "metadata": {},
     "output_type": "execute_result"
    }
   ],
   "source": [
    "from math import factorial as fact\n",
    "fact(10)"
   ]
  },
  {
   "cell_type": "code",
   "execution_count": 72,
   "metadata": {},
   "outputs": [
    {
     "data": {
      "text/plain": [
       "5"
      ]
     },
     "execution_count": 72,
     "metadata": {},
     "output_type": "execute_result"
    }
   ],
   "source": [
    "from math import gcd as gcd\n",
    "gcd(10,15)"
   ]
  },
  {
   "cell_type": "code",
   "execution_count": 74,
   "metadata": {},
   "outputs": [
    {
     "name": "stdout",
     "output_type": "stream",
     "text": [
      "77 25 95 78 64 5 31 46 91 93 "
     ]
    }
   ],
   "source": [
    "import random \n",
    "def generateRandom(n,lb,ub):\n",
    "    for i in range(0,n):\n",
    "        print(random.randint(lb,ub),end=\" \")\n",
    "    return\n",
    "generateRandom(10,0,100)"
   ]
  },
  {
   "cell_type": "code",
   "execution_count": 80,
   "metadata": {},
   "outputs": [
    {
     "name": "stdout",
     "output_type": "stream",
     "text": [
      "Try Again\n"
     ]
    }
   ],
   "source": [
    "from random import randint as rdint\n",
    "def generateNumber(n,lb,ub):\n",
    "    li=[]\n",
    "    for i in range(0,n):\n",
    "        li.append(rdint(lb,ub))\n",
    "    return li\n",
    "def check(n):\n",
    "    li = generateNumber(20,100,999)\n",
    "    if n in li:\n",
    "        print(\"Congrats\")\n",
    "    else :\n",
    "        print(\"Try Again\")\n",
    "    return\n",
    "check(569)\n",
    "    "
   ]
  },
  {
   "cell_type": "code",
   "execution_count": null,
   "metadata": {},
   "outputs": [],
   "source": []
  }
 ],
 "metadata": {
  "kernelspec": {
   "display_name": "Python 3",
   "language": "python",
   "name": "python3"
  },
  "language_info": {
   "codemirror_mode": {
    "name": "ipython",
    "version": 3
   },
   "file_extension": ".py",
   "mimetype": "text/x-python",
   "name": "python",
   "nbconvert_exporter": "python",
   "pygments_lexer": "ipython3",
   "version": "3.7.3"
  }
 },
 "nbformat": 4,
 "nbformat_minor": 2
}
