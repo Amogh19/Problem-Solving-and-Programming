{
 "cells": [
  {
   "cell_type": "markdown",
   "metadata": {},
   "source": [
    "### Control Statements\n",
    "- Conditional Statements\n",
    "   - if-else\n",
    "- Iterative Statements\n",
    "   - for\n",
    "   - while\n",
    "   - do-while"
   ]
  },
  {
   "cell_type": "code",
   "execution_count": 3,
   "metadata": {},
   "outputs": [
    {
     "name": "stdout",
     "output_type": "stream",
     "text": [
      "Enter a year 2001\n",
      "Non-Leap Year\n"
     ]
    }
   ],
   "source": [
    "year = int(input(\"Enter a year \"))\n",
    "if year%400 == 0 or (year% 100 !=0 and year%4 ==0):\n",
    "    print(\"Leap Year\")\n",
    "else:\n",
    "    print(\"Non-Leap Year\")\n"
   ]
  },
  {
   "cell_type": "code",
   "execution_count": 8,
   "metadata": {},
   "outputs": [
    {
     "name": "stdout",
     "output_type": "stream",
     "text": [
      "Enter a number 5\n",
      "1 2 3 4 5 "
     ]
    }
   ],
   "source": [
    "n=int(input(\"Enter a number \"))\n",
    "i=1\n",
    "while(i<=n):\n",
    "    print(i,end=\" \")\n",
    "    i=i+1"
   ]
  },
  {
   "cell_type": "code",
   "execution_count": 4,
   "metadata": {},
   "outputs": [
    {
     "name": "stdout",
     "output_type": "stream",
     "text": [
      "Enter a number 10\n",
      "The Sum of even numbers from 1 to 10 is 30\n"
     ]
    }
   ],
   "source": [
    "n=int(input(\"Enter a number \"))\n",
    "i=1\n",
    "s=0\n",
    "while(i<=n):\n",
    "    if(i%2==0):\n",
    "        s=s+i\n",
    "    i=i+1    \n",
    "print(\"The Sum of even numbers from 1 to\",n,\"is\",s)                  "
   ]
  },
  {
   "cell_type": "code",
   "execution_count": 1,
   "metadata": {},
   "outputs": [
    {
     "name": "stdout",
     "output_type": "stream",
     "text": [
      "Enter a number 23\n",
      "3 2 "
     ]
    }
   ],
   "source": [
    "n=int(input(\"Enter a number \"))\n",
    "i=0\n",
    "while(n!=0):\n",
    "    i=n%10\n",
    "    print(i,end=\" \")\n",
    "    n=n//10 # using / will not give us the required answer. Instead it will divide till the last of the decimal points."
   ]
  },
  {
   "cell_type": "markdown",
   "metadata": {},
   "source": [
    "### Functional Programming\n",
    "- Simple\n",
    "- Better Reusability\n",
    "- Easy to Understand\n",
    "- Division of Program into small blocks"
   ]
  },
  {
   "cell_type": "code",
   "execution_count": 5,
   "metadata": {},
   "outputs": [
    {
     "name": "stdout",
     "output_type": "stream",
     "text": [
      "Enter a number 1042\n"
     ]
    },
    {
     "data": {
      "text/plain": [
       "6"
      ]
     },
     "execution_count": 5,
     "metadata": {},
     "output_type": "execute_result"
    }
   ],
   "source": [
    "def fun1():\n",
    "    n=int(input(\"Enter a number \"))\n",
    "    i=0\n",
    "    s=0\n",
    "    while(n!=0):\n",
    "        i=n%10\n",
    "        if(i%2==0):\n",
    "            s=s+i\n",
    "        n=n//10\n",
    "    return s\n",
    "fun1()"
   ]
  },
  {
   "cell_type": "code",
   "execution_count": 7,
   "metadata": {},
   "outputs": [
    {
     "name": "stdout",
     "output_type": "stream",
     "text": [
      "Enter a number 6951351654561\n"
     ]
    },
    {
     "data": {
      "text/plain": [
       "9"
      ]
     },
     "execution_count": 7,
     "metadata": {},
     "output_type": "execute_result"
    }
   ],
   "source": [
    "def fun1():\n",
    "    n=int(input(\"Enter a number \"))\n",
    "    i=0\n",
    "    d=0\n",
    "    while(n!=0):\n",
    "        i=n%10\n",
    "        if(i>d):\n",
    "            d=i\n",
    "        n=n//10\n",
    "    return d\n",
    "fun1()"
   ]
  },
  {
   "cell_type": "code",
   "execution_count": 24,
   "metadata": {},
   "outputs": [
    {
     "name": "stdout",
     "output_type": "stream",
     "text": [
      "Enter a number 145\n",
      "Yes\n"
     ]
    }
   ],
   "source": [
    "def fun1():\n",
    "    n=int(input(\"Enter a number \"))\n",
    "    i=0\n",
    "    s=0\n",
    "    p=n\n",
    "    while(n!=0):\n",
    "        f=1\n",
    "        i=n%10\n",
    "        while(i!=0):\n",
    "            f=f*i\n",
    "            i=i-1\n",
    "        s=s+f\n",
    "        n=n//10\n",
    "    if(p==s):\n",
    "        print(\"Yes\")\n",
    "    else:\n",
    "        print(\"No\")\n",
    "fun1()\n",
    "        "
   ]
  },
  {
   "cell_type": "code",
   "execution_count": 27,
   "metadata": {},
   "outputs": [
    {
     "name": "stdout",
     "output_type": "stream",
     "text": [
      "Enter a number 123\n",
      "Not Palindrome\n"
     ]
    }
   ],
   "source": [
    "def fun1():\n",
    "    n=int(input(\"Enter a number \"))\n",
    "    d=n\n",
    "    p=0\n",
    "    r=0\n",
    "    while(n!=0):\n",
    "        r=n%10\n",
    "        p=p*10 + r\n",
    "        n=n//10\n",
    "    if(d==p):\n",
    "        print(\"Palindrome \")\n",
    "    else:\n",
    "        print(\"Not Palindrome\")\n",
    "fun1()"
   ]
  },
  {
   "cell_type": "markdown",
   "metadata": {},
   "source": [
    "### When to use which loop\n",
    "- For non-fixed number of iterations,use the while loop\n",
    "- For a fixed number of iterations,use the for loop"
   ]
  },
  {
   "cell_type": "code",
   "execution_count": 28,
   "metadata": {},
   "outputs": [
    {
     "name": "stdout",
     "output_type": "stream",
     "text": [
      "11 12 13 14 15 16 17 18 19 20 21 22 23 24 "
     ]
    }
   ],
   "source": [
    "def printSeries(lb,ub):\n",
    "    for x in range(lb,ub): # We know that range function is as follows : range(a,b-1)\n",
    "        print(x,end=\" \")\n",
    "    return\n",
    "printSeries(11,25)"
   ]
  },
  {
   "cell_type": "code",
   "execution_count": 29,
   "metadata": {},
   "outputs": [
    {
     "name": "stdout",
     "output_type": "stream",
     "text": [
      "Enter the lower bound 200\n",
      "Enter the upper bound 270\n",
      "200 202 204 206 208 210 212 214 216 218 220 222 224 226 228 230 232 234 236 238 240 242 244 246 248 250 252 254 256 258 260 262 264 266 268 270 "
     ]
    }
   ],
   "source": [
    "def printAlternate(lb,ub):\n",
    "    for x in range(lb,ub+1,2):\n",
    "        print(x,end=\" \")\n",
    "    return\n",
    "lb=int(input(\"Enter the lower bound \"))\n",
    "ub=int(input(\"Enter the upper bound \"))\n",
    "printAlternate(lb,ub)"
   ]
  },
  {
   "cell_type": "code",
   "execution_count": 2,
   "metadata": {},
   "outputs": [
    {
     "name": "stdout",
     "output_type": "stream",
     "text": [
      "Enter a number 25\n",
      "1 5 25 "
     ]
    }
   ],
   "source": [
    "def factors():\n",
    "    n=int(input(\"Enter a number \"))\n",
    "    i=1\n",
    "    while(i<=n):\n",
    "        if(n%i==0):\n",
    "            print(i,end=\" \")\n",
    "        i=i+1\n",
    "factors()"
   ]
  },
  {
   "cell_type": "code",
   "execution_count": 6,
   "metadata": {},
   "outputs": [
    {
     "name": "stdout",
     "output_type": "stream",
     "text": [
      "Enter a number 3\n",
      "True\n"
     ]
    }
   ],
   "source": [
    "def prime():\n",
    "    n=int(input(\"Enter a number \"))\n",
    "    i=2\n",
    "    c=0\n",
    "    while(i<n):\n",
    "        if(n%i==0):\n",
    "            c=c+1\n",
    "        i=i+1\n",
    "    if(c==0):\n",
    "        print(\"True\")\n",
    "    else:\n",
    "        print(\"False \")\n",
    "prime()"
   ]
  },
  {
   "cell_type": "code",
   "execution_count": null,
   "metadata": {},
   "outputs": [],
   "source": [
    "def checkprime(i):\n",
    "    j=2\n",
    "    c=0\n",
    "    while(j<i):\n",
    "        if(i%j==0):\n",
    "            c=c+1\n",
    "        i=i+1\n",
    "    if(c==0):\n",
    "        return 1\n",
    "    else:\n",
    "        return 0  \n",
    "def primec():\n",
    "    n=int(input(\"Enter a number \"))\n",
    "    i=2\n",
    "    pc=0\n",
    "    while(i<=n):\n",
    "        pc=pc+checkprime(i)\n",
    "        i=i+1\n",
    "    print(pc)\n",
    "primec()"
   ]
  },
  {
   "cell_type": "code",
   "execution_count": null,
   "metadata": {},
   "outputs": [],
   "source": []
  },
  {
   "cell_type": "code",
   "execution_count": null,
   "metadata": {},
   "outputs": [],
   "source": []
  }
 ],
 "metadata": {
  "kernelspec": {
   "display_name": "Python 3",
   "language": "python",
   "name": "python3"
  },
  "language_info": {
   "codemirror_mode": {
    "name": "ipython",
    "version": 3
   },
   "file_extension": ".py",
   "mimetype": "text/x-python",
   "name": "python",
   "nbconvert_exporter": "python",
   "pygments_lexer": "ipython3",
   "version": "3.7.3"
  }
 },
 "nbformat": 4,
 "nbformat_minor": 2
}
